{
 "cells": [
  {
   "cell_type": "code",
   "execution_count": 1,
   "id": "792ca34b-eb74-42b9-9e5e-6738957649e3",
   "metadata": {},
   "outputs": [
    {
     "data": {
      "text/html": [
       "<div>\n",
       "<style scoped>\n",
       "    .dataframe tbody tr th:only-of-type {\n",
       "        vertical-align: middle;\n",
       "    }\n",
       "\n",
       "    .dataframe tbody tr th {\n",
       "        vertical-align: top;\n",
       "    }\n",
       "\n",
       "    .dataframe thead th {\n",
       "        text-align: right;\n",
       "    }\n",
       "</style>\n",
       "<table border=\"1\" class=\"dataframe\">\n",
       "  <thead>\n",
       "    <tr style=\"text-align: right;\">\n",
       "      <th></th>\n",
       "      <th>user_id</th>\n",
       "      <th>timestamp</th>\n",
       "      <th>test_group</th>\n",
       "      <th>conversion</th>\n",
       "    </tr>\n",
       "  </thead>\n",
       "  <tbody>\n",
       "    <tr>\n",
       "      <th>0</th>\n",
       "      <td>7f6833e6-1141-4f20-b4b2-f1e31019b1fd</td>\n",
       "      <td>2023-07-04 04:40:55.848109</td>\n",
       "      <td>a</td>\n",
       "      <td>0</td>\n",
       "    </tr>\n",
       "    <tr>\n",
       "      <th>1</th>\n",
       "      <td>e6a6e960-d3f3-4074-a516-ba1e609b211e</td>\n",
       "      <td>2023-07-06 00:26:45.486187</td>\n",
       "      <td>b</td>\n",
       "      <td>0</td>\n",
       "    </tr>\n",
       "    <tr>\n",
       "      <th>2</th>\n",
       "      <td>4d3fbfa5-6847-410a-bac2-477f01d5f400</td>\n",
       "      <td>2023-07-10 20:24:33.639464</td>\n",
       "      <td>b</td>\n",
       "      <td>0</td>\n",
       "    </tr>\n",
       "    <tr>\n",
       "      <th>3</th>\n",
       "      <td>361457d9-a044-48f7-981c-d67dc3861679</td>\n",
       "      <td>2023-07-20 07:04:49.957013</td>\n",
       "      <td>b</td>\n",
       "      <td>0</td>\n",
       "    </tr>\n",
       "    <tr>\n",
       "      <th>4</th>\n",
       "      <td>285cd63d-7d03-427f-a062-1fa2dd2e77d6</td>\n",
       "      <td>2023-07-19 23:27:50.116680</td>\n",
       "      <td>b</td>\n",
       "      <td>0</td>\n",
       "    </tr>\n",
       "  </tbody>\n",
       "</table>\n",
       "</div>"
      ],
      "text/plain": [
       "                                user_id                  timestamp test_group  \\\n",
       "0  7f6833e6-1141-4f20-b4b2-f1e31019b1fd 2023-07-04 04:40:55.848109          a   \n",
       "1  e6a6e960-d3f3-4074-a516-ba1e609b211e 2023-07-06 00:26:45.486187          b   \n",
       "2  4d3fbfa5-6847-410a-bac2-477f01d5f400 2023-07-10 20:24:33.639464          b   \n",
       "3  361457d9-a044-48f7-981c-d67dc3861679 2023-07-20 07:04:49.957013          b   \n",
       "4  285cd63d-7d03-427f-a062-1fa2dd2e77d6 2023-07-19 23:27:50.116680          b   \n",
       "\n",
       "   conversion  \n",
       "0           0  \n",
       "1           0  \n",
       "2           0  \n",
       "3           0  \n",
       "4           0  "
      ]
     },
     "metadata": {},
     "output_type": "display_data"
    }
   ],
   "source": [
    "import pandas as pd\n",
    "import numpy as np\n",
    "\n",
    "test_data = pd.read_csv(\"ab_test_data.csv\", parse_dates=['timestamp'])\n",
    "display(test_data.head())"
   ]
  },
  {
   "cell_type": "code",
   "execution_count": 2,
   "id": "ef16074f-77f0-4c1a-866f-90a1922339bc",
   "metadata": {},
   "outputs": [
    {
     "name": "stdout",
     "output_type": "stream",
     "text": [
      "Sample size: a - 10013, b - 9985\n",
      "Conversions: a - 611, b - 889\n",
      "Conversion Rate: a - 6.1, b - 8.9\n",
      "Start date: 2023-07-03\n",
      "Finish date: 2023-07-25\n",
      "Test duration: 22\n"
     ]
    }
   ],
   "source": [
    "print('Sample size: a - {}, b - {}'.format(*test_data.groupby('test_group').size()))\n",
    "print('Conversions: a - {}, b - {}'.format(*test_data[test_data['conversion'] == 1].groupby('test_group').size()))\n",
    "print('Conversion Rate: a - {}, b - {}'.format(*(test_data.groupby('test_group')['conversion'].mean()*100).round(2)))\n",
    "print(f\"Start date: {test_data['timestamp'].dt.date.astype(str).min()}\")\n",
    "print(f\"Finish date: {test_data['timestamp'].dt.date.astype(str).max()}\")\n",
    "print(f\"Test duration: {(test_data['timestamp'].dt.date.max() - test_data['timestamp'].dt.date.min()).days}\")"
   ]
  },
  {
   "cell_type": "code",
   "execution_count": 3,
   "id": "2dc800bf-a0b9-4c81-a06b-a05c6791b728",
   "metadata": {},
   "outputs": [
    {
     "data": {
      "text/html": [
       "<div>\n",
       "<style scoped>\n",
       "    .dataframe tbody tr th:only-of-type {\n",
       "        vertical-align: middle;\n",
       "    }\n",
       "\n",
       "    .dataframe tbody tr th {\n",
       "        vertical-align: top;\n",
       "    }\n",
       "\n",
       "    .dataframe thead th {\n",
       "        text-align: right;\n",
       "    }\n",
       "</style>\n",
       "<table border=\"1\" class=\"dataframe\">\n",
       "  <thead>\n",
       "    <tr style=\"text-align: right;\">\n",
       "      <th></th>\n",
       "      <th>user_id</th>\n",
       "      <th>timestamp</th>\n",
       "      <th>test_group</th>\n",
       "      <th>conversion</th>\n",
       "    </tr>\n",
       "  </thead>\n",
       "  <tbody>\n",
       "    <tr>\n",
       "      <th>count</th>\n",
       "      <td>19998</td>\n",
       "      <td>19998</td>\n",
       "      <td>19998</td>\n",
       "      <td>19998.000000</td>\n",
       "    </tr>\n",
       "    <tr>\n",
       "      <th>unique</th>\n",
       "      <td>19998</td>\n",
       "      <td>NaN</td>\n",
       "      <td>2</td>\n",
       "      <td>NaN</td>\n",
       "    </tr>\n",
       "    <tr>\n",
       "      <th>top</th>\n",
       "      <td>7f6833e6-1141-4f20-b4b2-f1e31019b1fd</td>\n",
       "      <td>NaN</td>\n",
       "      <td>a</td>\n",
       "      <td>NaN</td>\n",
       "    </tr>\n",
       "    <tr>\n",
       "      <th>freq</th>\n",
       "      <td>1</td>\n",
       "      <td>NaN</td>\n",
       "      <td>10013</td>\n",
       "      <td>NaN</td>\n",
       "    </tr>\n",
       "    <tr>\n",
       "      <th>mean</th>\n",
       "      <td>NaN</td>\n",
       "      <td>2023-07-14 00:06:01.194764032</td>\n",
       "      <td>NaN</td>\n",
       "      <td>0.075008</td>\n",
       "    </tr>\n",
       "    <tr>\n",
       "      <th>min</th>\n",
       "      <td>NaN</td>\n",
       "      <td>2023-07-03 01:42:34.033708</td>\n",
       "      <td>NaN</td>\n",
       "      <td>0.000000</td>\n",
       "    </tr>\n",
       "    <tr>\n",
       "      <th>25%</th>\n",
       "      <td>NaN</td>\n",
       "      <td>2023-07-08 11:10:21.252182528</td>\n",
       "      <td>NaN</td>\n",
       "      <td>0.000000</td>\n",
       "    </tr>\n",
       "    <tr>\n",
       "      <th>50%</th>\n",
       "      <td>NaN</td>\n",
       "      <td>2023-07-13 23:41:16.368097536</td>\n",
       "      <td>NaN</td>\n",
       "      <td>0.000000</td>\n",
       "    </tr>\n",
       "    <tr>\n",
       "      <th>75%</th>\n",
       "      <td>NaN</td>\n",
       "      <td>2023-07-19 12:24:31.061365760</td>\n",
       "      <td>NaN</td>\n",
       "      <td>0.000000</td>\n",
       "    </tr>\n",
       "    <tr>\n",
       "      <th>max</th>\n",
       "      <td>NaN</td>\n",
       "      <td>2023-07-25 01:41:19.152664</td>\n",
       "      <td>NaN</td>\n",
       "      <td>1.000000</td>\n",
       "    </tr>\n",
       "    <tr>\n",
       "      <th>std</th>\n",
       "      <td>NaN</td>\n",
       "      <td>NaN</td>\n",
       "      <td>NaN</td>\n",
       "      <td>0.263410</td>\n",
       "    </tr>\n",
       "  </tbody>\n",
       "</table>\n",
       "</div>"
      ],
      "text/plain": [
       "                                     user_id                      timestamp  \\\n",
       "count                                  19998                          19998   \n",
       "unique                                 19998                            NaN   \n",
       "top     7f6833e6-1141-4f20-b4b2-f1e31019b1fd                            NaN   \n",
       "freq                                       1                            NaN   \n",
       "mean                                     NaN  2023-07-14 00:06:01.194764032   \n",
       "min                                      NaN     2023-07-03 01:42:34.033708   \n",
       "25%                                      NaN  2023-07-08 11:10:21.252182528   \n",
       "50%                                      NaN  2023-07-13 23:41:16.368097536   \n",
       "75%                                      NaN  2023-07-19 12:24:31.061365760   \n",
       "max                                      NaN     2023-07-25 01:41:19.152664   \n",
       "std                                      NaN                            NaN   \n",
       "\n",
       "       test_group    conversion  \n",
       "count       19998  19998.000000  \n",
       "unique          2           NaN  \n",
       "top             a           NaN  \n",
       "freq        10013           NaN  \n",
       "mean          NaN      0.075008  \n",
       "min           NaN      0.000000  \n",
       "25%           NaN      0.000000  \n",
       "50%           NaN      0.000000  \n",
       "75%           NaN      0.000000  \n",
       "max           NaN      1.000000  \n",
       "std           NaN      0.263410  "
      ]
     },
     "execution_count": 3,
     "metadata": {},
     "output_type": "execute_result"
    }
   ],
   "source": [
    "test_data.describe(include = 'all')"
   ]
  },
  {
   "cell_type": "code",
   "execution_count": 4,
   "id": "e88c6fb9-64f4-4bc6-afef-1813aa556fd4",
   "metadata": {},
   "outputs": [
    {
     "name": "stdout",
     "output_type": "stream",
     "text": [
      "<class 'pandas.core.frame.DataFrame'>\n",
      "RangeIndex: 19998 entries, 0 to 19997\n",
      "Data columns (total 4 columns):\n",
      " #   Column      Non-Null Count  Dtype         \n",
      "---  ------      --------------  -----         \n",
      " 0   user_id     19998 non-null  object        \n",
      " 1   timestamp   19998 non-null  datetime64[ns]\n",
      " 2   test_group  19998 non-null  object        \n",
      " 3   conversion  19998 non-null  int64         \n",
      "dtypes: datetime64[ns](1), int64(1), object(2)\n",
      "memory usage: 625.1+ KB\n"
     ]
    }
   ],
   "source": [
    "test_data.info()"
   ]
  },
  {
   "cell_type": "code",
   "execution_count": 5,
   "id": "3e10614e-a288-46e5-a6e2-0a49cf2f54b9",
   "metadata": {},
   "outputs": [
    {
     "data": {
      "text/html": [
       "<div>\n",
       "<style scoped>\n",
       "    .dataframe tbody tr th:only-of-type {\n",
       "        vertical-align: middle;\n",
       "    }\n",
       "\n",
       "    .dataframe tbody tr th {\n",
       "        vertical-align: top;\n",
       "    }\n",
       "\n",
       "    .dataframe thead tr th {\n",
       "        text-align: left;\n",
       "    }\n",
       "\n",
       "    .dataframe thead tr:last-of-type th {\n",
       "        text-align: right;\n",
       "    }\n",
       "</style>\n",
       "<table border=\"1\" class=\"dataframe\">\n",
       "  <thead>\n",
       "    <tr>\n",
       "      <th></th>\n",
       "      <th colspan=\"8\" halign=\"left\">conversion</th>\n",
       "    </tr>\n",
       "    <tr>\n",
       "      <th></th>\n",
       "      <th>count</th>\n",
       "      <th>mean</th>\n",
       "      <th>std</th>\n",
       "      <th>min</th>\n",
       "      <th>25%</th>\n",
       "      <th>50%</th>\n",
       "      <th>75%</th>\n",
       "      <th>max</th>\n",
       "    </tr>\n",
       "    <tr>\n",
       "      <th>test_group</th>\n",
       "      <th></th>\n",
       "      <th></th>\n",
       "      <th></th>\n",
       "      <th></th>\n",
       "      <th></th>\n",
       "      <th></th>\n",
       "      <th></th>\n",
       "      <th></th>\n",
       "    </tr>\n",
       "  </thead>\n",
       "  <tbody>\n",
       "    <tr>\n",
       "      <th>a</th>\n",
       "      <td>10013.0</td>\n",
       "      <td>0.061021</td>\n",
       "      <td>0.239380</td>\n",
       "      <td>0.0</td>\n",
       "      <td>0.0</td>\n",
       "      <td>0.0</td>\n",
       "      <td>0.0</td>\n",
       "      <td>1.0</td>\n",
       "    </tr>\n",
       "    <tr>\n",
       "      <th>b</th>\n",
       "      <td>9985.0</td>\n",
       "      <td>0.089034</td>\n",
       "      <td>0.284806</td>\n",
       "      <td>0.0</td>\n",
       "      <td>0.0</td>\n",
       "      <td>0.0</td>\n",
       "      <td>0.0</td>\n",
       "      <td>1.0</td>\n",
       "    </tr>\n",
       "  </tbody>\n",
       "</table>\n",
       "</div>"
      ],
      "text/plain": [
       "           conversion                                             \n",
       "                count      mean       std  min  25%  50%  75%  max\n",
       "test_group                                                        \n",
       "a             10013.0  0.061021  0.239380  0.0  0.0  0.0  0.0  1.0\n",
       "b              9985.0  0.089034  0.284806  0.0  0.0  0.0  0.0  1.0"
      ]
     },
     "execution_count": 5,
     "metadata": {},
     "output_type": "execute_result"
    }
   ],
   "source": [
    "test_data.groupby('test_group').describe(include=[np.number])"
   ]
  },
  {
   "cell_type": "code",
   "execution_count": 6,
   "id": "53ca0ba7-ee99-4810-8c10-bb68bb3c41a2",
   "metadata": {},
   "outputs": [
    {
     "data": {
      "text/plain": [
       "611"
      ]
     },
     "execution_count": 6,
     "metadata": {},
     "output_type": "execute_result"
    }
   ],
   "source": [
    "test_data[(test_data['test_group'] == 'a') & (test_data['conversion'] == 1)]['conversion'].count()"
   ]
  },
  {
   "cell_type": "code",
   "execution_count": 7,
   "id": "b57deb77-5edd-4abd-9327-3c840672dc26",
   "metadata": {},
   "outputs": [
    {
     "data": {
      "text/plain": [
       "889"
      ]
     },
     "execution_count": 7,
     "metadata": {},
     "output_type": "execute_result"
    }
   ],
   "source": [
    "test_data[(test_data['test_group'] == 'b') & (test_data['conversion'] == 1)]['conversion'].count()"
   ]
  },
  {
   "cell_type": "code",
   "execution_count": 8,
   "id": "cda3f26a-b757-469c-a1a1-6b47fe7a555d",
   "metadata": {},
   "outputs": [
    {
     "name": "stdout",
     "output_type": "stream",
     "text": [
      "t-statistic: -7.53, p-value: 0.0\n",
      "The difference is statistically significant, Null Hypothesis is rejected.\n"
     ]
    }
   ],
   "source": [
    "from scipy import stats\n",
    "\n",
    "alpha = 0.05\n",
    "\n",
    "statistic, pvalue = stats.ttest_ind(test_data[test_data['test_group'] == 'a']['conversion'],\n",
    "                                    test_data[test_data['test_group'] == 'b']['conversion'], \n",
    "                                    alternative='less')\n",
    "\n",
    "print(f't-statistic: {round(statistic, 2)}, p-value: {round(pvalue, 2)}')\n",
    "\n",
    "if pvalue < alpha:\n",
    "    print('The difference is statistically significant, Null Hypothesis is rejected.')\n",
    "else:\n",
    "    print('The difference is insignificant, Null Hypothesis cannot rejected.')"
   ]
  },
  {
   "cell_type": "code",
   "execution_count": 9,
   "id": "767169b5-f1ca-4160-bf1d-b4f044f995dc",
   "metadata": {},
   "outputs": [
    {
     "name": "stdout",
     "output_type": "stream",
     "text": [
      "statistic: -7.53, p-value: 0.02\n",
      "The difference is statistically significant, Null Hypothesis is rejected.\n"
     ]
    }
   ],
   "source": [
    "from scipy import stats\n",
    "\n",
    "def statistic(x, y):\n",
    "    return stats.ttest_ind(x, y).statistic\n",
    "\n",
    "alpha = 0.05\n",
    "    \n",
    "x = test_data[test_data['test_group'] == 'a']['conversion']\n",
    "y = test_data[test_data['test_group'] == 'b']['conversion']\n",
    "\n",
    "results = stats.permutation_test((x, y), statistic, n_resamples=100)\n",
    "\n",
    "print(f'statistic: {round(results.statistic, 2)}, p-value: {round(results.pvalue, 2)}')\n",
    "\n",
    "if results.pvalue < alpha:\n",
    "    print('The difference is statistically significant, Null Hypothesis is rejected.')\n",
    "else:\n",
    "    print('The difference is insignificant, Null Hypothesis cannot rejected.')"
   ]
  },
  {
   "cell_type": "code",
   "execution_count": 10,
   "id": "622af62d-3070-495e-abce-f3fc84d9759b",
   "metadata": {},
   "outputs": [
    {
     "data": {
      "image/png": "[encoded data removed]",
      "text/plain": [
       "<Figure size 800x600 with 1 Axes>"
      ]
     },
     "metadata": {},
     "output_type": "display_data"
    }
   ],
   "source": [
    "import matplotlib.pyplot as plt\n",
    "import seaborn as sns\n",
    "\n",
    "plt.figure(figsize=(8, 6))\n",
    "sns.barplot(x=test_data['test_group'], \n",
    "            y=test_data['conversion'], \n",
    "            errorbar=('ci', 95)) # Confidence Intervals\n",
    "\n",
    "plt.title('A/B Test Results')\n",
    "plt.xlabel('Group')\n",
    "plt.ylabel('Mean')\n",
    "plt.savefig('ab_test_results.png')\n",
    "plt.show()"
   ]
  },
  {
   "cell_type": "code",
   "execution_count": 11,
   "id": "8ed59d2f-4604-45e5-bd1d-61bfe5aee57b",
   "metadata": {},
   "outputs": [
    {
     "data": {
      "image/png": "[encoded data removed]",
      "text/plain": [
       "<Figure size 1000x600 with 1 Axes>"
      ]
     },
     "metadata": {},
     "output_type": "display_data"
    }
   ],
   "source": [
    "cumulative_metric_a = test_data[test_data['test_group'] == 'a'].sort_values(by = 'timestamp')['conversion'].expanding().mean().reset_index(drop=True)\n",
    "cumulative_metric_b = test_data[test_data['test_group'] == 'b'].sort_values(by = 'timestamp')['conversion'].expanding().mean().reset_index(drop=True)\n",
    "\n",
    "plt.figure(figsize=(10, 6))\n",
    "plt.plot(cumulative_metric_a, label='A')\n",
    "plt.plot(cumulative_metric_b, label='B')\n",
    "\n",
    "plt.title('Cumulative Сonversion Rate Comparison')\n",
    "plt.xlabel('Time')\n",
    "plt.ylabel('Cumulative Сonversion Rate')\n",
    "\n",
    "plt.legend()\n",
    "plt.savefig('Cumulative_Сonversion_Rate_Comparison.png')\n",
    "plt.show()"
   ]
  },
  {
   "cell_type": "code",
   "execution_count": null,
   "id": "7b1ad04c-9b94-4690-87cc-95b6b675ede3",
   "metadata": {},
   "outputs": [],
   "source": []
  }
 ],
 "metadata": {
  "kernelspec": {
   "display_name": "Python 3 (ipykernel)",
   "language": "python",
   "name": "python3"
  },
  "language_info": {
   "codemirror_mode": {
    "name": "ipython",
    "version": 3
   },
   "file_extension": ".py",
   "mimetype": "text/x-python",
   "name": "python",
   "nbconvert_exporter": "python",
   "pygments_lexer": "ipython3",
   "version": "3.11.7"
  }
 },
 "nbformat": 4,
 "nbformat_minor": 5
}
